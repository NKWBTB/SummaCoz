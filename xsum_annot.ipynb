{
 "cells": [
  {
   "cell_type": "code",
   "execution_count": 2,
   "metadata": {},
   "outputs": [],
   "source": [
    "import pandas as pd"
   ]
  },
  {
   "cell_type": "code",
   "execution_count": 3,
   "metadata": {},
   "outputs": [],
   "source": [
    "df = pd.read_csv('data/raw/hallucination_annotations_xsum_summaries.csv')"
   ]
  },
  {
   "cell_type": "code",
   "execution_count": 12,
   "metadata": {},
   "outputs": [
    {
     "data": {
      "text/plain": [
       "{'rory mcilroy will take a one-shot lead into the final round of the wgc-hsbc champions after carding a three-under',\n",
       " 'the final round of the wgc-hsbc champions'}"
      ]
     },
     "execution_count": 12,
     "metadata": {},
     "output_type": "execute_result"
    }
   ],
   "source": [
    "set(df[(df.bbcid == 34687720) & (df.system == \"BERTS2S\")].hallucinated_span.tolist())"
   ]
  },
  {
   "cell_type": "code",
   "execution_count": 19,
   "metadata": {},
   "outputs": [],
   "source": [
    "from llama2_gen import load_jsonl, dump2jsonl\n",
    "data = load_jsonl(\"data/raw/xsumfaith_val.jsonl\")"
   ]
  },
  {
   "cell_type": "code",
   "execution_count": 21,
   "metadata": {},
   "outputs": [],
   "source": [
    "from template import XSUM_EXTRA_TEMPLATE, SELFINST_TEMPLATE_EXTRA\n",
    "import json\n",
    "for line in data:\n",
    "    system = line[\"model_name\"]\n",
    "    bbcid = int(line[\"bbcid\"])\n",
    "    annotation = list(set(df[(df.bbcid == bbcid) & (df.system == system)].hallucinated_span.tolist()))\n",
    "    line[\"extra\"] = xsum_annotation=json.dumps(annotation, indent=2)\n",
    "dump2jsonl(data, \"data/raw/xsumfaith_val_extra.jsonl\")"
   ]
  },
  {
   "cell_type": "code",
   "execution_count": null,
   "metadata": {},
   "outputs": [],
   "source": [
    "import os\n",
    "os.environ[\"CUDA_VISIBLE_DEVICES\"] = \"2\"\n",
    "from transformers import AutoTokenizer, AutoModelForCausalLM\n",
    "import transformers\n",
    "import torch\n",
    "\n",
    "MODEL = \"meta-llama/Llama-2-13b-chat-hf\"\n",
    "model = AutoModelForCausalLM.from_pretrained(MODEL,\n",
    "                                            torch_dtype=torch.float16,\n",
    "                                            trust_remote_code=True,\n",
    "                                            device_map=\"auto\")\n",
    "tokenizer = AutoTokenizer.from_pretrained(MODEL)\n",
    "pipeline = transformers.pipeline(\n",
    "    \"text-generation\",\n",
    "    model=model,\n",
    "    tokenizer=tokenizer\n",
    ")"
   ]
  }
 ],
 "metadata": {
  "kernelspec": {
   "display_name": "base",
   "language": "python",
   "name": "python3"
  },
  "language_info": {
   "codemirror_mode": {
    "name": "ipython",
    "version": 3
   },
   "file_extension": ".py",
   "mimetype": "text/x-python",
   "name": "python",
   "nbconvert_exporter": "python",
   "pygments_lexer": "ipython3",
   "version": "3.10.10"
  }
 },
 "nbformat": 4,
 "nbformat_minor": 2
}
