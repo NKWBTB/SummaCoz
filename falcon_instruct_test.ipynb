{
 "cells": [
  {
   "cell_type": "code",
   "execution_count": null,
   "metadata": {},
   "outputs": [],
   "source": [
    "!pip install torch --index-url https://download.pytorch.org/whl/cu118"
   ]
  },
  {
   "cell_type": "code",
   "execution_count": null,
   "metadata": {},
   "outputs": [],
   "source": [
    "!pip install tqdm transformers deepspeed bitsandbytes langchain sentencepiece protobuf peft einops"
   ]
  },
  {
   "cell_type": "code",
   "execution_count": 1,
   "metadata": {},
   "outputs": [
    {
     "name": "stderr",
     "output_type": "stream",
     "text": [
      "/home/gluo/miniconda3/lib/python3.10/site-packages/tqdm/auto.py:21: TqdmWarning: IProgress not found. Please update jupyter and ipywidgets. See https://ipywidgets.readthedocs.io/en/stable/user_install.html\n",
      "  from .autonotebook import tqdm as notebook_tqdm\n"
     ]
    },
    {
     "name": "stdout",
     "output_type": "stream",
     "text": [
      "[2023-08-30 15:39:48,628] [INFO] [real_accelerator.py:110:get_accelerator] Setting ds_accelerator to cuda (auto detect)\n"
     ]
    },
    {
     "name": "stderr",
     "output_type": "stream",
     "text": [
      "Loading checkpoint shards: 100%|██████████| 2/2 [00:06<00:00,  3.26s/it]\n",
      "Xformers is not installed correctly. If you want to use memory_efficient_attention to accelerate training use the following command to install Xformers\n",
      "pip install xformers.\n",
      "The model 'RWForCausalLM' is not supported for text-generation. Supported models are ['BartForCausalLM', 'BertLMHeadModel', 'BertGenerationDecoder', 'BigBirdForCausalLM', 'BigBirdPegasusForCausalLM', 'BioGptForCausalLM', 'BlenderbotForCausalLM', 'BlenderbotSmallForCausalLM', 'BloomForCausalLM', 'CamembertForCausalLM', 'CodeGenForCausalLM', 'CpmAntForCausalLM', 'CTRLLMHeadModel', 'Data2VecTextForCausalLM', 'ElectraForCausalLM', 'ErnieForCausalLM', 'GitForCausalLM', 'GPT2LMHeadModel', 'GPT2LMHeadModel', 'GPTBigCodeForCausalLM', 'GPTNeoForCausalLM', 'GPTNeoXForCausalLM', 'GPTNeoXJapaneseForCausalLM', 'GPTJForCausalLM', 'LlamaForCausalLM', 'MarianForCausalLM', 'MBartForCausalLM', 'MegaForCausalLM', 'MegatronBertForCausalLM', 'MvpForCausalLM', 'OpenLlamaForCausalLM', 'OpenAIGPTLMHeadModel', 'OPTForCausalLM', 'PegasusForCausalLM', 'PLBartForCausalLM', 'ProphetNetForCausalLM', 'QDQBertLMHeadModel', 'ReformerModelWithLMHead', 'RemBertForCausalLM', 'RobertaForCausalLM', 'RobertaPreLayerNormForCausalLM', 'RoCBertForCausalLM', 'RoFormerForCausalLM', 'RwkvForCausalLM', 'Speech2Text2ForCausalLM', 'TransfoXLLMHeadModel', 'TrOCRForCausalLM', 'XGLMForCausalLM', 'XLMWithLMHeadModel', 'XLMProphetNetForCausalLM', 'XLMRobertaForCausalLM', 'XLMRobertaXLForCausalLM', 'XLNetLMHeadModel', 'XmodForCausalLM'].\n"
     ]
    }
   ],
   "source": [
    "import os\n",
    "os.environ[\"CUDA_VISIBLE_DEVICES\"] = \"0,1\"\n",
    "from transformers import AutoTokenizer, AutoModelForCausalLM\n",
    "import transformers\n",
    "import torch\n",
    "\n",
    "model = \"tiiuae/falcon-7b-instruct\"\n",
    "\n",
    "tokenizer = AutoTokenizer.from_pretrained(model)\n",
    "pipeline = transformers.pipeline(\n",
    "    \"text-generation\",\n",
    "    model=model,\n",
    "    tokenizer=tokenizer,\n",
    "    torch_dtype=torch.bfloat16,\n",
    "    trust_remote_code=True,\n",
    "    device_map=\"auto\",\n",
    ")"
   ]
  },
  {
   "cell_type": "code",
   "execution_count": 2,
   "metadata": {},
   "outputs": [
    {
     "name": "stderr",
     "output_type": "stream",
     "text": [
      "/home/gluo/miniconda3/lib/python3.10/site-packages/transformers/generation/utils.py:1259: UserWarning: You have modified the pretrained model configuration to control generation. This is a deprecated strategy to control generation and will be removed soon, in a future version. Please use a generation configuration file (see https://huggingface.co/docs/transformers/main_classes/text_generation)\n",
      "  warnings.warn(\n"
     ]
    },
    {
     "name": "stdout",
     "output_type": "stream",
     "text": [
      "Why is earth round?\n",
      "The earth is round because it is the result of the gravitational forces acting on the planet. Gravity pulls everything towards the center of the planet, causing the planet to become round.\n"
     ]
    }
   ],
   "source": [
    "def llm_generate(input_txt):\n",
    "    sequences = pipeline(\n",
    "            input_txt,\n",
    "            max_length=512,\n",
    "            num_return_sequences=1,\n",
    "            pad_token_id=tokenizer.eos_token_id,\n",
    "    )\n",
    "    return sequences[0]['generated_text']\n",
    "print(llm_generate(\"Why is earth round?\"))"
   ]
  },
  {
   "cell_type": "code",
   "execution_count": 3,
   "metadata": {},
   "outputs": [],
   "source": [
    "template = \\\n",
    "\"\"\"Note that consistency means all information in the summary is supported by the article. \n",
    "It's known that the following summary is not consistent with the article. \n",
    "Find out the why.\n",
    "\n",
    "Summary: \n",
    "{summary} \n",
    "\n",
    "Article: \n",
    "{article} \n",
    "\n",
    "Explain your reasoning step by step:\n",
    "\"\"\"\n",
    "\n",
    "doc1 = \"Mr Katter said the Government believes Mr Gordon would quit after he was recently accused of domestic violence.\"\n",
    "sum1 = \"Mr Katter said he would quit after he was accused of domestic violence.\"\n",
    "\n",
    "doc2 = \"Barcelona club president Josep Maria Bartomeu has insisted that the La Liga leaders have no plans to replace Luis Enrique and they're `very happy' with him.\"\n",
    "sum2 = \"Josep Maria Bartomeu says the La Liga leaders are very happy with him.\"\n",
    "\n",
    "doc3 = \"Goldfish are being caught weighing up to 2kg and koi carp up to 8kg and one metre in length.\"\n",
    "sum3 = \"Goldfish are being caught weighing up to 8kg and one metre in length.\"\n",
    "\n",
    "doc4 = \"Paul Merson had another dig at Andros Townsend after his appearance for Tottenham against Burnley ...Townsend hit back at Merson on Twitter after scoring for England against Italy.\"\n",
    "sum4 = \"Paul Merson had another dig at andros townsend after scoring for England against Italy.\"\n",
    "\n",
    "doc5 = \"Catania, Italy (CNN)The boat that sank in the Mediterranean over the weekend with hundreds of migrants on board may have capsized after being touched or swamped by a cargo ship that came to its aid, a U.N. official said. Carlotta Asami, a spokeswoman for the United Nations' refugee agency, made the comments to CNN early Tuesday after she and two of her colleagues had spoken to multiple survivors from the disaster who arrived in Catania, Italy.\"\n",
    "sum5 = \"hundreds of migrants on board may have capsized after being touched or swamped by a cargo ship that came to its aid.\""
   ]
  },
  {
   "cell_type": "code",
   "execution_count": 4,
   "metadata": {},
   "outputs": [
    {
     "name": "stdout",
     "output_type": "stream",
     "text": [
      "Note that consistency means all information in the summary is supported by the article. \n",
      "It's known that the following summary is not consistent with the article. \n",
      "Find out the why.\n",
      "\n",
      "Summary: \n",
      "Mr Katter said he would quit after he was accused of domestic violence. \n",
      "\n",
      "Article: \n",
      "Mr Katter said the Government believes Mr Gordon would quit after he was recently accused of domestic violence. \n",
      "\n",
      "Explain your reasoning step by step:\n",
      "1. The summary states that Mr Katter would quit after being accused of domestic violence. \n",
      "2. However, the article states that the Government believes Mr Gordon would quit after being recently accused of domestic violence. \n",
      "3. The inconsistency is due to the use of the word'recently'. The article implies that the Government believes Mr Gordon would quit after being recently accused, while the summary states that Mr Katter would quit after being accused. \n",
      "4. To maintain consistency, the summary should use the same word as the article,'recently'.\n"
     ]
    }
   ],
   "source": [
    "print(llm_generate(template.format(article=doc1, summary=sum1)))\n",
    "\n",
    "\"\"\"\n",
    "Original:\n",
    "1. The summary states that Mr Katter would quit after being accused of domestic violence. \n",
    "2. However, the article states that the Government believes Mr Gordon would quit after being recently accused of domestic violence. \n",
    "3. The inconsistency is due to the use of the word'recently'. The article implies that the Government believes Mr Gordon would quit after being recently accused, while the summary states that Mr Katter would quit after being accused. \n",
    "4. To maintain consistency, the summary should use the same word as the article,'recently'.\n",
    "\n",
    "Corrected (The major error is not recently)\n",
    "1. The summary states that Mr Katter would quit after being accused of domestic violence. \n",
    "2. However, the article states that the Government believes Mr Gordon would quit after being recently accused of domestic violence. \n",
    "3. The inconsistency is due to the error that the article implies that the Government believes **Mr Gordon** would quit, while the summary states that **Mr Katter** would quit. \n",
    "\"\"\""
   ]
  },
  {
   "cell_type": "code",
   "execution_count": 5,
   "metadata": {},
   "outputs": [
    {
     "name": "stdout",
     "output_type": "stream",
     "text": [
      "Note that consistency means all information in the summary is supported by the article. \n",
      "It's known that the following summary is not consistent with the article. \n",
      "Find out the why.\n",
      "\n",
      "Summary: \n",
      "Josep Maria Bartomeu says the La Liga leaders are very happy with him. \n",
      "\n",
      "Article: \n",
      "Barcelona club president Josep Maria Bartomeu has insisted that the La Liga leaders have no plans to replace Luis Enrique and they're `very happy' with him. \n",
      "\n",
      "Explain your reasoning step by step:\n",
      "1. The summary claims that Bartomeu is happy with himself, which contradicts the article's claim that the La Liga leaders are very happy with him. \n",
      "2. The article provides evidence for the claim that the La Liga leaders are very happy with him, while the summary does not. \n",
      "3. Therefore, the summary is not consistent with the article.\n"
     ]
    }
   ],
   "source": [
    "print(llm_generate(template.format(article=doc2, summary=sum2)))\n",
    "\n",
    "\"\"\"\n",
    "Original:\n",
    "1. The summary claims that Bartomeu is happy with himself, which contradicts the article's claim that the La Liga leaders are very happy with him. \n",
    "2. The article provides evidence for the claim that the La Liga leaders are very happy with him, while the summary does not. \n",
    "3. Therefore, the summary is not consistent with the article.\n",
    "\n",
    "Corrected (Both texts did not claim Bartomeu is happy with himself):\n",
    "1. The summary claims that Bartomeu says the La Liga leaders are very happy with him.\n",
    "2. The article provides evidence for the claim that the La Liga leaders have no plans to replace Luis Enrique and they're `very happy' with him. \n",
    "3. Therefore, the summary is not consistent with article on that the summary implies the La Liga leaders are very happy with **Bartomeu**, but the article implies the La Liga leaders are very happy with **Luis Enrique**.\n",
    "\"\"\""
   ]
  },
  {
   "cell_type": "code",
   "execution_count": 6,
   "metadata": {},
   "outputs": [
    {
     "name": "stdout",
     "output_type": "stream",
     "text": [
      "Note that consistency means all information in the summary is supported by the article. \n",
      "It's known that the following summary is not consistent with the article. \n",
      "Find out the why.\n",
      "\n",
      "Summary: \n",
      "Goldfish are being caught weighing up to 8kg and one metre in length. \n",
      "\n",
      "Article: \n",
      "Goldfish are being caught weighing up to 2kg and koi carp up to 8kg and one metre in length. \n",
      "\n",
      "Explain your reasoning step by step:\n",
      "1. The article states that goldfish can weigh up to 8kg, while the summary states that koi carp can weigh up to 8kg. \n",
      "2. The article also states that koi carp can reach a length of 1 metre, while the summary states that goldfish can reach a length of up to 8cm. \n",
      "3. Therefore, the summary is not consistent with the article.\n"
     ]
    }
   ],
   "source": [
    "print(llm_generate(template.format(article=doc3, summary=sum3)))\n",
    "\n",
    "\"\"\"\n",
    "Original:\n",
    "1. The article states that goldfish can weigh up to 8kg, while the summary states that koi carp can weigh up to 8kg. \n",
    "2. The article also states that koi carp can reach a length of 1 metre, while the summary states that goldfish can reach a length of up to 8cm. \n",
    "3. Therefore, the summary is not consistent with the article.\n",
    "\n",
    "Corrected (Hallucination):\n",
    "1. The article states that **goldfish** can weigh up to 8kg, while the summary states that **koi carp** can weigh up to 8kg. \n",
    "2. Therefore, the summary is not consistent with the article.\n",
    "\"\"\""
   ]
  },
  {
   "cell_type": "code",
   "execution_count": 7,
   "metadata": {},
   "outputs": [
    {
     "name": "stdout",
     "output_type": "stream",
     "text": [
      "Note that consistency means all information in the summary is supported by the article. \n",
      "It's known that the following summary is not consistent with the article. \n",
      "Find out the why.\n",
      "\n",
      "Summary: \n",
      "Paul Merson had another dig at andros townsend after scoring for England against Italy. \n",
      "\n",
      "Article: \n",
      "Paul Merson had another dig at Andros Townsend after his appearance for Tottenham against Burnley ...Townsend hit back at Merson on Twitter after scoring for England against Italy. \n",
      "\n",
      "Explain your reasoning step by step:\n",
      "1. The summary states that Paul Merson had another dig at Andros Townsend after scoring for England against Italy.\n",
      "2. However, the article mentions that Andros Townsend was not even in the match against Italy.\n",
      "3. Therefore, the summary is not consistent with the article.\n"
     ]
    }
   ],
   "source": [
    "print(llm_generate(template.format(article=doc4, summary=sum4)))\n",
    "\n",
    "\"\"\"\n",
    "Original\n",
    "1. The summary states that Paul Merson had another dig at Andros Townsend after scoring for England against Italy.\n",
    "2. However, the article mentions that Andros Townsend was not even in the match against Italy.\n",
    "3. Therefore, the summary is not consistent with the article.\n",
    "\n",
    "Corrected (Hallucination)\n",
    "1. The summary states that Paul Merson had another dig at Andros Townsend after scoring for England against Italy.\n",
    "2. However, the article mentions that Paul Merson had another dig at Andros Townsend after his appearance for Tottenham against Burnley.\n",
    "3. Therefore, the summary is not consistent with the article on the time of event where the summary states **after scoring for England against Italy**, while the article states **after his appearance for Tottenham against Burnley**.\n",
    "\"\"\""
   ]
  },
  {
   "cell_type": "code",
   "execution_count": 8,
   "metadata": {},
   "outputs": [
    {
     "name": "stdout",
     "output_type": "stream",
     "text": [
      "Note that consistency means all information in the summary is supported by the article. \n",
      "It's known that the following summary is not consistent with the article. \n",
      "Find out the why.\n",
      "\n",
      "Summary: \n",
      "hundreds of migrants on board may have capsized after being touched or swamped by a cargo ship that came to its aid. \n",
      "\n",
      "Article: \n",
      "Catania, Italy (CNN)The boat that sank in the Mediterranean over the weekend with hundreds of migrants on board may have capsized after being touched or swamped by a cargo ship that came to its aid, a U.N. official said. Carlotta Asami, a spokeswoman for the United Nations' refugee agency, made the comments to CNN early Tuesday after she and two of her colleagues had spoken to multiple survivors from the disaster who arrived in Catania, Italy. \n",
      "\n",
      "Explain your reasoning step by step:\n",
      "1. The article mentions a cargo ship that came to the aid of the migrants. 2. The cargo ship may have touched or swamped the migrants. 3. The cargo ship may have capsized. 4. The cargo ship may have capsized due to the migrants. 5. The cargo ship may have capsized due to the migrants being touched or swamped. 6. The cargo ship may have capsized due to the migrants being touched or swamped. 7. The cargo ship may have capsized due to the migrants being touched or swamped. 8. The cargo ship may have capsized due to the migrants being touched or swamped. 9. The cargo ship may have capsized due to the migrants being touched or swamped. 10. The cargo ship may have capsized due to the migrants being touched or swamped. 11. The cargo ship may have capsized due to the migrants being touched or swamped. 12. The cargo ship may have capsized due to the migrants being touched or swamped. 13. The cargo ship may have capsized due to the migrants being touched or swamped. 14. The cargo ship may have capsized due to the migrants being touched or swamped. 15. The cargo ship may have capsized due to the migrants being touched or swamped. 16. The cargo ship may have capsized due to the migrants being touched or swamped. 17. The cargo ship may have capsized due to the migrants being touched or swamped. 18. The cargo ship may have caps\n"
     ]
    },
    {
     "data": {
      "text/plain": [
       "'\\nOriginal\\n1. The summary states that Paul Merson had another dig at Andros Townsend after scoring for England against Italy.\\n2. However, the article mentions that Andros Townsend was not even in the match against Italy.\\n3. Therefore, the summary is not consistent with the article.\\n\\nCorrected (Hallucination)\\n1. The summary states that Paul Merson had another dig at Andros Townsend after scoring for England against Italy.\\n2. However, the article mentions that Paul Merson had another dig at Andros Townsend after his appearance for Tottenham against Burnley.\\n3. Therefore, the summary is not consistent with the article on the time of event where the summary states **after scoring for England against Italy**, while the article states **after his appearance for Tottenham against Burnley**.\\n'"
      ]
     },
     "execution_count": 8,
     "metadata": {},
     "output_type": "execute_result"
    }
   ],
   "source": [
    "print(llm_generate(template.format(article=doc5, summary=sum5)))\n",
    "\n",
    "\"\"\"\n",
    "Original\n",
    "Unable to produce reasonning...\n",
    "\n",
    "Corrected \n",
    "1. The summary states hundreds of migrants on board may have capsized.\n",
    "2. The article mentions the boat with hundreds of migrants on board may have capsized.\n",
    "3. The summary is not consistent article because the summary says **migrants** may have capsized, while the article states **boat** may have capsized.\n",
    "\"\"\""
   ]
  },
  {
   "cell_type": "markdown",
   "metadata": {},
   "source": []
  }
 ],
 "metadata": {
  "kernelspec": {
   "display_name": "base",
   "language": "python",
   "name": "python3"
  },
  "language_info": {
   "codemirror_mode": {
    "name": "ipython",
    "version": 3
   },
   "file_extension": ".py",
   "mimetype": "text/x-python",
   "name": "python",
   "nbconvert_exporter": "python",
   "pygments_lexer": "ipython3",
   "version": "3.10.10"
  },
  "orig_nbformat": 4
 },
 "nbformat": 4,
 "nbformat_minor": 2
}
