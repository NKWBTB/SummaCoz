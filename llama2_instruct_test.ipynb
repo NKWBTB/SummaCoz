{
 "cells": [
  {
   "cell_type": "code",
   "execution_count": null,
   "metadata": {},
   "outputs": [],
   "source": [
    "!pip install torch --index-url https://download.pytorch.org/whl/cu118"
   ]
  },
  {
   "cell_type": "code",
   "execution_count": null,
   "metadata": {},
   "outputs": [],
   "source": [
    "!pip install tqdm transformers deepspeed bitsandbytes langchain sentencepiece protobuf peft einops"
   ]
  },
  {
   "cell_type": "code",
   "execution_count": 3,
   "metadata": {},
   "outputs": [
    {
     "name": "stderr",
     "output_type": "stream",
     "text": [
      "Downloading (…)lve/main/config.json: 100%|██████████| 587/587 [00:00<00:00, 1.39MB/s]"
     ]
    },
    {
     "name": "stdout",
     "output_type": "stream",
     "text": [
      "[2023-08-30 16:40:47,455] [INFO] [real_accelerator.py:110:get_accelerator] Setting ds_accelerator to cuda (auto detect)\n"
     ]
    },
    {
     "name": "stderr",
     "output_type": "stream",
     "text": [
      "\n",
      "Downloading (…)fetensors.index.json: 100%|██████████| 33.4k/33.4k [00:00<00:00, 26.2MB/s]\n",
      "Downloading (…)of-00003.safetensors: 100%|██████████| 9.95G/9.95G [00:35<00:00, 279MB/s]\n",
      "Downloading (…)of-00003.safetensors: 100%|██████████| 9.90G/9.90G [00:35<00:00, 279MB/s]\n",
      "Downloading (…)of-00003.safetensors: 100%|██████████| 6.18G/6.18G [00:22<00:00, 278MB/s]\n",
      "Downloading shards: 100%|██████████| 3/3 [01:33<00:00, 31.27s/it]\n",
      "The model weights are not tied. Please use the `tie_weights` method before using the `infer_auto_device` function.\n",
      "Loading checkpoint shards: 100%|██████████| 3/3 [00:47<00:00, 15.87s/it]\n",
      "Downloading (…)neration_config.json: 100%|██████████| 188/188 [00:00<00:00, 2.60MB/s]\n",
      "Downloading (…)okenizer_config.json: 100%|██████████| 776/776 [00:00<00:00, 13.1MB/s]\n",
      "Downloading tokenizer.model: 100%|██████████| 500k/500k [00:00<00:00, 450MB/s]\n",
      "Downloading (…)/main/tokenizer.json: 100%|██████████| 1.84M/1.84M [00:00<00:00, 14.0MB/s]\n",
      "Downloading (…)cial_tokens_map.json: 100%|██████████| 414/414 [00:00<00:00, 407kB/s]\n",
      "Xformers is not installed correctly. If you want to use memory_efficient_attention to accelerate training use the following command to install Xformers\n",
      "pip install xformers.\n"
     ]
    }
   ],
   "source": [
    "import os\n",
    "os.environ[\"CUDA_VISIBLE_DEVICES\"] = \"0,1\"\n",
    "from transformers import AutoTokenizer, AutoModelForCausalLM\n",
    "import transformers\n",
    "import torch\n",
    "\n",
    "MODEL = \"meta-llama/Llama-2-13b-chat-hf\"\n",
    "model = AutoModelForCausalLM.from_pretrained(MODEL,\n",
    "                                            torch_dtype=torch.float16,\n",
    "                                            trust_remote_code=True,\n",
    "                                            device_map=\"auto\")\n",
    "tokenizer = AutoTokenizer.from_pretrained(MODEL)\n",
    "pipeline = transformers.pipeline(\n",
    "    \"text-generation\",\n",
    "    model=model,\n",
    "    tokenizer=tokenizer\n",
    ")"
   ]
  },
  {
   "cell_type": "code",
   "execution_count": 6,
   "metadata": {},
   "outputs": [
    {
     "name": "stdout",
     "output_type": "stream",
     "text": [
      "<s>[INST] Why is earth round? [/INST]  The Earth is round because of the way it was formed and the forces that have acted upon it over time.\n",
      "\n",
      "The Earth is thought to have formed around 4.5 billion years ago from the accretion of dust and gas in the solar nebula, a disk of material that surrounded the young Sun. As this material accumulated, it began to heat up and eventually melted, forming a large, spinning ball of molten rock.\n",
      "\n",
      "As the Earth cooled, it began to contract under its own gravity, causing it to collapse into a more compact, spherical shape. This process, known as planetary differentiation, also led to the formation of the Earth's core, mantle, and crust.\n",
      "\n",
      "Over time, the Earth's shape has been influenced by a variety of geologic processes, including the movement of tectonic plates, the formation of mountains and volcanoes, and the erosion caused by wind, water, and ice. However, despite these changes, the Earth's basic spherical shape has remained relatively unchanged.\n",
      "\n",
      "There are a few reasons why the Earth is round, rather than being a more irregular shape:\n",
      "\n",
      "1. Conservation of angular momentum: As the Earth formed and cooled, it began to rotate faster and faster due to the conservation of angular momentum. This rotation helped to flatten the Earth into a sphere, rather than a more irregular shape.\n",
      "2. Gravity: The force of gravity acting on the Earth's mass pulls it towards a spherical shape, rather than a more irregular one. This is because the force of gravity is stronger at the Earth's center than at its surface, causing the material to be pulled towards the center.\n",
      "3. Material properties: The Earth's material properties, such as its density and viscosity, also contribute to its spherical shape. For example, the Earth's mantle is more fluid and less viscous than its crust, which helps to maintain the sphere shape.\n",
      "\n",
      "Overall, the Earth's round shape is the result of a combination of factors, including its formation and cooling history, the forces of gravity and angular momentum, and the properties of its material.\n"
     ]
    }
   ],
   "source": [
    "def llm_generate(input_txt):\n",
    "    sequences = pipeline(\n",
    "            input_txt,\n",
    "            max_length=512,\n",
    "            num_return_sequences=1,\n",
    "            pad_token_id=tokenizer.eos_token_id,\n",
    "    )\n",
    "    return sequences[0]['generated_text']\n",
    "print(llm_generate(\"<s>[INST] Why is earth round? [/INST]\"))"
   ]
  },
  {
   "cell_type": "code",
   "execution_count": 7,
   "metadata": {},
   "outputs": [],
   "source": [
    "template = \\\n",
    "\"\"\"<s>[INST] Note that consistency means all information in the summary is supported by the article. \n",
    "It's known that the following summary is not consistent with the article. \n",
    "Find out the why.\n",
    "\n",
    "Summary: \n",
    "{summary} \n",
    "\n",
    "Article: \n",
    "{article} \n",
    "\n",
    "Explain your reasoning step by step:[/INST]\n",
    "\"\"\"\n",
    "\n",
    "doc1 = \"Mr Katter said the Government believes Mr Gordon would quit after he was recently accused of domestic violence.\"\n",
    "sum1 = \"Mr Katter said he would quit after he was accused of domestic violence.\"\n",
    "\n",
    "doc2 = \"Barcelona club president Josep Maria Bartomeu has insisted that the La Liga leaders have no plans to replace Luis Enrique and they're `very happy' with him.\"\n",
    "sum2 = \"Josep Maria Bartomeu says the La Liga leaders are very happy with him.\"\n",
    "\n",
    "doc3 = \"Goldfish are being caught weighing up to 2kg and koi carp up to 8kg and one metre in length.\"\n",
    "sum3 = \"Goldfish are being caught weighing up to 8kg and one metre in length.\"\n",
    "\n",
    "doc4 = \"Paul Merson had another dig at Andros Townsend after his appearance for Tottenham against Burnley ...Townsend hit back at Merson on Twitter after scoring for England against Italy.\"\n",
    "sum4 = \"Paul Merson had another dig at andros townsend after scoring for England against Italy.\"\n",
    "\n",
    "doc5 = \"Catania, Italy (CNN)The boat that sank in the Mediterranean over the weekend with hundreds of migrants on board may have capsized after being touched or swamped by a cargo ship that came to its aid, a U.N. official said. Carlotta Asami, a spokeswoman for the United Nations' refugee agency, made the comments to CNN early Tuesday after she and two of her colleagues had spoken to multiple survivors from the disaster who arrived in Catania, Italy.\"\n",
    "sum5 = \"hundreds of migrants on board may have capsized after being touched or swamped by a cargo ship that came to its aid.\""
   ]
  },
  {
   "cell_type": "code",
   "execution_count": 8,
   "metadata": {},
   "outputs": [
    {
     "name": "stdout",
     "output_type": "stream",
     "text": [
      "<s>[INST] Note that consistency means all information in the summary is supported by the article. \n",
      "It's known that the following summary is not consistent with the article. \n",
      "Find out the why.\n",
      "\n",
      "Summary: \n",
      "Mr Katter said he would quit after he was accused of domestic violence. \n",
      "\n",
      "Article: \n",
      "Mr Katter said the Government believes Mr Gordon would quit after he was recently accused of domestic violence. \n",
      "\n",
      "Explain your reasoning step by step:[/INST]\n",
      "  Sure, I can help you with that! Here's my reasoning step by step:\n",
      "\n",
      "1. The summary states that Mr. Katter said he would quit after being accused of domestic violence.\n",
      "2. The article states that the Government believes Mr. Gordon would quit after being recently accused of domestic violence.\n",
      "3. The key difference between the summary and the article is that the name \"Mr. Katter\" is mentioned in the summary, but there is no mention of Mr. Katter in the article.\n",
      "4. Therefore, the summary is not consistent with the article because the article does not mention Mr. Katter quitting or being accused of domestic violence.\n",
      "5. The article actually mentions Mr. Gordon being accused of domestic violence and the Government believing that he would quit.\n",
      "\n",
      "So, the reason why the summary is not consistent with the article is that it mistakenly refers to Mr. Katter instead of Mr. Gordon, and it also includes a detail (Mr. Katter quitting) that is not present in the article.\n"
     ]
    },
    {
     "data": {
      "text/plain": [
       "\"\\nOriginal:\\n1. The summary states that Mr Katter would quit after being accused of domestic violence. \\n2. However, the article states that the Government believes Mr Gordon would quit after being recently accused of domestic violence. \\n3. The inconsistency is due to the use of the word'recently'. The article implies that the Government believes Mr Gordon would quit after being recently accused, while the summary states that Mr Katter would quit after being accused. \\n4. To maintain consistency, the summary should use the same word as the article,'recently'.\\n\\nCorrected (The major error is not recently)\\n1. The summary states that Mr Katter would quit after being accused of domestic violence. \\n2. However, the article states that the Government believes Mr Gordon would quit after being recently accused of domestic violence. \\n3. The inconsistency is due to the error that the article implies that the Government believes **Mr Gordon** would quit, while the summary states that **Mr Katter** would quit. \\n\""
      ]
     },
     "execution_count": 8,
     "metadata": {},
     "output_type": "execute_result"
    }
   ],
   "source": [
    "print(llm_generate(template.format(article=doc1, summary=sum1)))\n",
    "\n",
    "\"\"\"\n",
    "Original:\n",
    "1. The summary states that Mr. Katter said he would quit after being accused of domestic violence.\n",
    "2. The article states that the Government believes Mr. Gordon would quit after being recently accused of domestic violence.\n",
    "3. The key difference between the summary and the article is that the name \"Mr. Katter\" is mentioned in the summary, but there is no mention of Mr. Katter in the article.\n",
    "4. Therefore, the summary is not consistent with the article because the article does not mention Mr. Katter quitting or being accused of domestic violence.\n",
    "5. The article actually mentions Mr. Gordon being accused of domestic violence and the Government believing that he would quit.\n",
    "\n",
    "So, the reason why the summary is not consistent with the article is that it mistakenly refers to Mr. Katter instead of Mr. Gordon, and it also includes a detail (Mr. Katter quitting) that is not present in the article.\n",
    "\n",
    "Revised:\n",
    "1. The summary states that Mr. Katter said he would quit after being accused of domestic violence.\n",
    "2. The article states that the Government believes Mr. Gordon would quit after being recently accused of domestic violence.\n",
    "3. Therefore, the summary is not consistent with the article because the article does not mention Mr. Katter quitting or being accused of domestic violence.\n",
    "4. The article actually mentions Mr. Gordon being accused of domestic violence and the Government believing that he would quit.\n",
    "5. The summary is not consistent with the article is because that it mistakenly refers to Mr. Katter instead of Mr. Gordon, and it also includes a detail (Mr. Katter quitting) that is not present in the article.\n",
    "\"\"\""
   ]
  },
  {
   "cell_type": "code",
   "execution_count": 9,
   "metadata": {},
   "outputs": [
    {
     "name": "stdout",
     "output_type": "stream",
     "text": [
      "<s>[INST] Note that consistency means all information in the summary is supported by the article. \n",
      "It's known that the following summary is not consistent with the article. \n",
      "Find out the why.\n",
      "\n",
      "Summary: \n",
      "Josep Maria Bartomeu says the La Liga leaders are very happy with him. \n",
      "\n",
      "Article: \n",
      "Barcelona club president Josep Maria Bartomeu has insisted that the La Liga leaders have no plans to replace Luis Enrique and they're `very happy' with him. \n",
      "\n",
      "Explain your reasoning step by step:[/INST]\n",
      "\n",
      "1. The summary states that Josep Maria Bartomeu says the La Liga leaders are very happy with him.\n",
      "2. The article states that Bartomeu has insisted that the La Liga leaders have no plans to replace Luis Enrique and they're \"very happy\" with him.\n",
      "3. The wording of the summary is different from the wording of the article. In the summary, it is stated that the La Liga leaders are happy with Bartomeu, while in the article, it is stated that the La Liga leaders have no plans to replace Luis Enrique and are happy with him.\n",
      "4. The reason for the inconsistency is that the summary has misinterpreted the article. The article does not say that the La Liga leaders are happy with Bartomeu, but rather that they have no plans to replace Luis Enrique and are happy with him.\n",
      "5. Therefore, the summary is not consistent with the article, and the inconsistency is due to a misinterpretation of the article's content.\n"
     ]
    },
    {
     "data": {
      "text/plain": [
       "\"\\nOriginal:\\n1. The summary claims that Bartomeu is happy with himself, which contradicts the article's claim that the La Liga leaders are very happy with him. \\n2. The article provides evidence for the claim that the La Liga leaders are very happy with him, while the summary does not. \\n3. Therefore, the summary is not consistent with the article.\\n\\nCorrected (Both texts did not claim Bartomeu is happy with himself):\\n1. The summary claims that Bartomeu says the La Liga leaders are very happy with him.\\n2. The article provides evidence for the claim that the La Liga leaders have no plans to replace Luis Enrique and they're `very happy' with him. \\n3. Therefore, the summary is not consistent with article on that the summary implies the La Liga leaders are very happy with **Bartomeu**, but the article implies the La Liga leaders are very happy with **Luis Enrique**.\\n\""
      ]
     },
     "execution_count": 9,
     "metadata": {},
     "output_type": "execute_result"
    }
   ],
   "source": [
    "print(llm_generate(template.format(article=doc2, summary=sum2)))\n",
    "\n",
    "\"\"\"\n",
    "Original:\n",
    "1. The summary states that Josep Maria Bartomeu says the La Liga leaders are very happy with him.\n",
    "2. The article states that Bartomeu has insisted that the La Liga leaders have no plans to replace Luis Enrique and they're \"very happy\" with him.\n",
    "3. The wording of the summary is different from the wording of the article. In the summary, it is stated that the La Liga leaders are happy with Bartomeu, while in the article, it is stated that the La Liga leaders have no plans to replace Luis Enrique and are happy with him.\n",
    "4. The reason for the inconsistency is that the summary has misinterpreted the article. The article does not say that the La Liga leaders are happy with Bartomeu, but rather that they have no plans to replace Luis Enrique and are happy with him.\n",
    "5. Therefore, the summary is not consistent with the article, and the inconsistency is due to a misinterpretation of the article's content.\n",
    "\"\"\""
   ]
  },
  {
   "cell_type": "code",
   "execution_count": 10,
   "metadata": {},
   "outputs": [
    {
     "name": "stdout",
     "output_type": "stream",
     "text": [
      "<s>[INST] Note that consistency means all information in the summary is supported by the article. \n",
      "It's known that the following summary is not consistent with the article. \n",
      "Find out the why.\n",
      "\n",
      "Summary: \n",
      "Goldfish are being caught weighing up to 8kg and one metre in length. \n",
      "\n",
      "Article: \n",
      "Goldfish are being caught weighing up to 2kg and koi carp up to 8kg and one metre in length. \n",
      "\n",
      "Explain your reasoning step by step:[/INST]\n",
      "\n",
      "1. The summary states that goldfish are being caught weighing up to 8kg and one meter in length.\n",
      "2. The article states that goldfish are being caught weighing up to 2kg and koi carp up to 8kg and one meter in length.\n",
      "3. The article does not mention goldfish weighing up to 8kg and one meter in length, only koi carp.\n",
      "4. Therefore, the summary is not consistent with the article because it claims that goldfish are being caught weighing up to 8kg and one meter in length, which is not supported by the article.\n",
      "\n",
      "The reason for this inconsistency is likely a mistake or misinterpretation of the information in the article. The article specifically mentions koi carp, not goldfish, as the fish being caught weighing up to 8kg and one meter in length.\n"
     ]
    },
    {
     "data": {
      "text/plain": [
       "'\\nOriginal:\\n1. The article states that goldfish can weigh up to 8kg, while the summary states that koi carp can weigh up to 8kg. \\n2. The article also states that koi carp can reach a length of 1 metre, while the summary states that goldfish can reach a length of up to 8cm. \\n3. Therefore, the summary is not consistent with the article.\\n\\nCorrected (Hallucination):\\n1. The article states that **goldfish** can weigh up to 8kg, while the summary states that **koi carp** can weigh up to 8kg. \\n2. Therefore, the summary is not consistent with the article.\\n'"
      ]
     },
     "execution_count": 10,
     "metadata": {},
     "output_type": "execute_result"
    }
   ],
   "source": [
    "print(llm_generate(template.format(article=doc3, summary=sum3)))\n",
    "\n",
    "\"\"\"\n",
    "Original:\n",
    "1. The summary states that goldfish are being caught weighing up to 8kg and one meter in length.\n",
    "2. The article states that goldfish are being caught weighing up to 2kg and koi carp up to 8kg and one meter in length.\n",
    "3. The article does not mention goldfish weighing up to 8kg and one meter in length, only koi carp.\n",
    "4. Therefore, the summary is not consistent with the article because it claims that goldfish are being caught weighing up to 8kg and one meter in length, which is not supported by the article.\n",
    "5. The reason for this inconsistency is likely a mistake or misinterpretation of the information in the article. The article specifically mentions koi carp, not goldfish, as the fish being caught weighing up to 8kg and one meter in length.\n",
    "\"\"\""
   ]
  },
  {
   "cell_type": "code",
   "execution_count": 11,
   "metadata": {},
   "outputs": [
    {
     "name": "stdout",
     "output_type": "stream",
     "text": [
      "<s>[INST] Note that consistency means all information in the summary is supported by the article. \n",
      "It's known that the following summary is not consistent with the article. \n",
      "Find out the why.\n",
      "\n",
      "Summary: \n",
      "Paul Merson had another dig at andros townsend after scoring for England against Italy. \n",
      "\n",
      "Article: \n",
      "Paul Merson had another dig at Andros Townsend after his appearance for Tottenham against Burnley ...Townsend hit back at Merson on Twitter after scoring for England against Italy. \n",
      "\n",
      "Explain your reasoning step by step:[/INST]\n",
      "\n",
      "1. The summary states that Paul Merson had a dig at Andros Townsend after scoring for England against Italy.\n",
      "2. The article states that Paul Merson had a dig at Andros Townsend after his appearance for Tottenham against Burnley.\n",
      "3. These two statements are not consistent, as Andros Townsend did not play for England against Italy.\n",
      "4. Therefore, the summary is not consistent with the article, and the reason for this inconsistency is that the summary incorrectly states that Andros Townsend played for England against Italy.\n",
      "\n",
      "Step by step reasoning:\n",
      "\n",
      "1. The summary states that Paul Merson had a dig at Andros Townsend after scoring for England against Italy.\n",
      "2. This statement is not true, as Andros Townsend did not play for England against Italy.\n",
      "3. The article states that Paul Merson had a dig at Andros Townsend after his appearance for Tottenham against Burnley.\n",
      "4. This statement is true, as Andros Townsend did play for Tottenham against Burnley.\n",
      "5. Therefore, the summary is not consistent with the article, and the reason for this inconsistency is that the summary incorrectly states that Andros Townsend played for England against Italy.\n"
     ]
    },
    {
     "data": {
      "text/plain": [
       "'\\nOriginal\\n1. The summary states that Paul Merson had another dig at Andros Townsend after scoring for England against Italy.\\n2. However, the article mentions that Andros Townsend was not even in the match against Italy.\\n3. Therefore, the summary is not consistent with the article.\\n\\nCorrected (Hallucination)\\n1. The summary states that Paul Merson had another dig at Andros Townsend after scoring for England against Italy.\\n2. However, the article mentions that Paul Merson had another dig at Andros Townsend after his appearance for Tottenham against Burnley.\\n3. Therefore, the summary is not consistent with the article on the time of event where the summary states **after scoring for England against Italy**, while the article states **after his appearance for Tottenham against Burnley**.\\n'"
      ]
     },
     "execution_count": 11,
     "metadata": {},
     "output_type": "execute_result"
    }
   ],
   "source": [
    "print(llm_generate(template.format(article=doc4, summary=sum4)))\n",
    "\n",
    "\"\"\"\n",
    "Original\n",
    "1. The summary states that Paul Merson had a dig at Andros Townsend after scoring for England against Italy.\n",
    "2. The article states that Paul Merson had a dig at Andros Townsend after his appearance for Tottenham against Burnley.\n",
    "3. These two statements are not consistent, as Andros Townsend did not play for England against Italy.\n",
    "4. Therefore, the summary is not consistent with the article, and the reason for this inconsistency is that the summary incorrectly states that Andros Townsend played for England against Italy.\n",
    "\n",
    "Corrected (Hallucination)\n",
    "1. The summary states that Paul Merson had a dig at Andros Townsend after scoring for England against Italy.\n",
    "2. The article states that Paul Merson had a dig at Andros Townsend after his appearance for Tottenham against Burnley.\n",
    "3. These two statements are not consistent, as summary states the event happened after scoring for England against Italy, while the article says after his appearance for Tottenham against Burnley.\n",
    "4. Therefore, the summary is not consistent with the article, and the reason for this inconsistency is that the summary incorrectly states the time when Paul Merson had a dig at Andros Townsend.\n",
    "\"\"\""
   ]
  },
  {
   "cell_type": "code",
   "execution_count": 12,
   "metadata": {},
   "outputs": [
    {
     "name": "stdout",
     "output_type": "stream",
     "text": [
      "<s>[INST] Note that consistency means all information in the summary is supported by the article. \n",
      "It's known that the following summary is not consistent with the article. \n",
      "Find out the why.\n",
      "\n",
      "Summary: \n",
      "hundreds of migrants on board may have capsized after being touched or swamped by a cargo ship that came to its aid. \n",
      "\n",
      "Article: \n",
      "Catania, Italy (CNN)The boat that sank in the Mediterranean over the weekend with hundreds of migrants on board may have capsized after being touched or swamped by a cargo ship that came to its aid, a U.N. official said. Carlotta Asami, a spokeswoman for the United Nations' refugee agency, made the comments to CNN early Tuesday after she and two of her colleagues had spoken to multiple survivors from the disaster who arrived in Catania, Italy. \n",
      "\n",
      "Explain your reasoning step by step:[/INST]\n",
      "\n",
      "1. The summary states that the cargo ship \"came to its aid\" and that the boat \"may have capsized after being touched or swamped.\"\n",
      "2. However, the article states that the cargo ship \"came to its aid\" and that the boat \"may have capsized after being touched or swamped\" due to the cargo ship's actions.\n",
      "3. The summary implies that the cargo ship caused the boat to capsize, while the article suggests that the cargo ship's actions may have contributed to the boat's capsizing.\n",
      "4. The summary is not consistent with the article because it does not accurately convey the information provided in the article. The article does not state that the cargo ship intentionally caused the boat to capsize, but rather that its actions may have contributed to the boat's capsizing.\n",
      "5. Therefore, the summary is not a consistent representation of the information in the article, and it may be misleading to readers.\n"
     ]
    },
    {
     "data": {
      "text/plain": [
       "'\\nOriginal\\nUnable to produce reasonning...\\n\\nCorrected \\n1. The summary states hundreds of migrants on board may have capsized.\\n2. The article mentions the boat with hundreds of migrants on board may have capsized.\\n3. The summary is not consistent article because the summary says **migrants** may have capsized, while the article states **boat** may have capsized.\\n'"
      ]
     },
     "execution_count": 12,
     "metadata": {},
     "output_type": "execute_result"
    }
   ],
   "source": [
    "print(llm_generate(template.format(article=doc5, summary=sum5)))\n",
    "\n",
    "\"\"\"\n",
    "Original\n",
    "1. The summary states that the cargo ship \"came to its aid\" and that the boat \"may have capsized after being touched or swamped.\"\n",
    "2. However, the article states that the cargo ship \"came to its aid\" and that the boat \"may have capsized after being touched or swamped\" due to the cargo ship's actions.\n",
    "3. The summary implies that the cargo ship caused the boat to capsize, while the article suggests that the cargo ship's actions may have contributed to the boat's capsizing.\n",
    "4. The summary is not consistent with the article because it does not accurately convey the information provided in the article. The article does not state that the cargo ship intentionally caused the boat to capsize, but rather that its actions may have contributed to the boat's capsizing.\n",
    "5. Therefore, the summary is not a consistent representation of the information in the article, and it may be misleading to readers.\n",
    "\n",
    "Corrected:\n",
    "1. The summary states hundreds of migrants on board may have capsized.\n",
    "2. The article mentions the boat with hundreds of migrants on board may have capsized.\n",
    "3. The summary is not consistent article because the summary says **migrants** may have capsized, while the article states **boat** may have capsized.\n",
    "\"\"\""
   ]
  },
  {
   "cell_type": "markdown",
   "metadata": {},
   "source": []
  }
 ],
 "metadata": {
  "kernelspec": {
   "display_name": "base",
   "language": "python",
   "name": "python3"
  },
  "language_info": {
   "codemirror_mode": {
    "name": "ipython",
    "version": 3
   },
   "file_extension": ".py",
   "mimetype": "text/x-python",
   "name": "python",
   "nbconvert_exporter": "python",
   "pygments_lexer": "ipython3",
   "version": "3.10.10"
  },
  "orig_nbformat": 4
 },
 "nbformat": 4,
 "nbformat_minor": 2
}
