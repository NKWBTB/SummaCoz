{
 "cells": [
  {
   "cell_type": "code",
   "execution_count": null,
   "metadata": {},
   "outputs": [],
   "source": [
    "!pip install torch --index-url https://download.pytorch.org/whl/cu118"
   ]
  },
  {
   "cell_type": "code",
   "execution_count": null,
   "metadata": {},
   "outputs": [],
   "source": [
    "!pip install tqdm transformers deepspeed bitsandbytes langchain sentencepiece protobuf peft einops"
   ]
  },
  {
   "cell_type": "code",
   "execution_count": 1,
   "metadata": {},
   "outputs": [
    {
     "name": "stderr",
     "output_type": "stream",
     "text": [
      "/home/gluo/miniconda3/lib/python3.10/site-packages/tqdm/auto.py:21: TqdmWarning: IProgress not found. Please update jupyter and ipywidgets. See https://ipywidgets.readthedocs.io/en/stable/user_install.html\n",
      "  from .autonotebook import tqdm as notebook_tqdm\n"
     ]
    },
    {
     "name": "stdout",
     "output_type": "stream",
     "text": [
      "[2023-09-14 23:27:34,351] [INFO] [real_accelerator.py:110:get_accelerator] Setting ds_accelerator to cuda (auto detect)\n"
     ]
    },
    {
     "name": "stderr",
     "output_type": "stream",
     "text": [
      "The model weights are not tied. Please use the `tie_weights` method before using the `infer_auto_device` function.\n",
      "Loading checkpoint shards: 100%|██████████| 3/3 [00:24<00:00,  8.04s/it]\n"
     ]
    }
   ],
   "source": [
    "import os\n",
    "os.environ[\"CUDA_VISIBLE_DEVICES\"] = \"0,1\"\n",
    "from transformers import AutoTokenizer, AutoModelForCausalLM\n",
    "import transformers\n",
    "import torch\n",
    "\n",
    "MODEL = \"meta-llama/Llama-2-13b-chat-hf\"\n",
    "model = AutoModelForCausalLM.from_pretrained(MODEL,\n",
    "                                            torch_dtype=torch.float16,\n",
    "                                            trust_remote_code=True,\n",
    "                                            device_map=\"auto\")\n",
    "tokenizer = AutoTokenizer.from_pretrained(MODEL)\n",
    "pipeline = transformers.pipeline(\n",
    "    \"text-generation\",\n",
    "    model=model,\n",
    "    tokenizer=tokenizer\n",
    ")"
   ]
  },
  {
   "cell_type": "code",
   "execution_count": 6,
   "metadata": {},
   "outputs": [
    {
     "name": "stdout",
     "output_type": "stream",
     "text": [
      "<s>[INST] Why is earth round? [/INST]  The Earth is round because of the way it was formed and the forces that have acted upon it over time.\n",
      "\n",
      "The Earth is thought to have formed around 4.5 billion years ago from the accretion of dust and gas in the solar nebula, a disk of material that surrounded the young Sun. As this material accumulated, it began to heat up and eventually melted, forming a large, spinning ball of molten rock.\n",
      "\n",
      "As the Earth cooled, it began to contract under its own gravity, causing it to collapse into a more compact, spherical shape. This process, known as planetary differentiation, also led to the formation of the Earth's core, mantle, and crust.\n",
      "\n",
      "Over time, the Earth's shape has been influenced by a variety of geologic processes, including the movement of tectonic plates, the formation of mountains and volcanoes, and the erosion caused by wind, water, and ice. However, despite these changes, the Earth's basic spherical shape has remained relatively unchanged.\n",
      "\n",
      "There are a few reasons why the Earth is round, rather than being a more irregular shape:\n",
      "\n",
      "1. Conservation of angular momentum: As the Earth formed and cooled, it began to rotate faster and faster due to the conservation of angular momentum. This rotation helped to flatten the Earth into a sphere, rather than a more irregular shape.\n",
      "2. Gravity: The force of gravity acting on the Earth's mass pulls it towards a spherical shape, rather than a more irregular one. This is because the force of gravity is stronger at the Earth's center than at its surface, causing the material to be pulled towards the center.\n",
      "3. Material properties: The Earth's material properties, such as its density and viscosity, also contribute to its spherical shape. For example, the Earth's mantle is more fluid and less viscous than its crust, which helps to maintain the sphere shape.\n",
      "\n",
      "Overall, the Earth's round shape is the result of a combination of factors, including its formation and cooling history, the forces of gravity and angular momentum, and the properties of its material.\n"
     ]
    }
   ],
   "source": [
    "def llm_generate(input_txt):\n",
    "    sequences = pipeline(\n",
    "            input_txt,\n",
    "            max_new_tokens=512,\n",
    "            num_return_sequences=1,\n",
    "            pad_token_id=tokenizer.eos_token_id,\n",
    "            eos_token_id=tokenizer.eos_token_id\n",
    "    )\n",
    "    return sequences[0]['generated_text']\n",
    "print(llm_generate(\"<s>[INST] Why is earth round? [/INST]\"))"
   ]
  },
  {
   "cell_type": "code",
   "execution_count": 28,
   "metadata": {},
   "outputs": [],
   "source": [
    "template = \\\n",
    "\"\"\"<s>[INST] Note that consistency means all information in the summary is supported by the article. \n",
    "It's known that the following summary is not consistent with the article. \n",
    "Find out why. \n",
    "\n",
    "<Article> \n",
    "{article}\n",
    "</Article>\n",
    "\n",
    "<Summary> \n",
    "{summary}\n",
    "</Summary>\n",
    "\n",
    "Explain your reasoning step by step:[/INST]\n",
    "\"\"\"\n",
    "\n",
    "doc_long1 = \"Nearly half of the Radio Rentals customers have been found to be on welfare payments, and they are not just renting household necessities. The ABC have reported that those who receive Centrelink payments made up half of Radio Rental's income last year. Of the $197 million of revenue they made, $90 million came from the bill-managing Centrelink service, Centrepay. Rental company Radio Rentals has been getting nealry half of its yearly revenue from Centrelink . Centrelink's service, Centrepay is a voluntary bill paying service that helps to manage welfare funds . Of that $90 million in expenditure, $45 million was used for entertainment items such as flat screen televisions, smart phones, sound systems and other home theatre devices. The shocking reality is that the consumer leasing company relies on revenue from the Australian welfare system. A report released by finance company Credit Suisse has expressed that any change in the rules that regulate the consumer leasing industry would have a huge effect on Radio Rentals and their business. Centrepay is a voluntary bill paying service offered by Centrelink and deducts welfare payments in manageable amounts in order to pay nominated bills. Those bills can be toward rent, electricity, gas, water, ambulance or medical services and many more. This service aims to make budgeting easier for customers and caters to rental companies as it encourages smaller, broken up bills. Of the $90 million in expenditure, $45 million was used for entertainment items such as flat screen TVs . The reality is that the consumer leasing company relies on revenue from the Australian welfare system . Consumer Action Law Centre chief executive officer Gerard Brody told the ABC that there have been worries about the white goods leasing market leader Radio Rentals for a while now. 'We have had long-held concerns about Radio Rentals and the consumer lease industry's use of the Centrepay system,' he said. Radio Rentals is currently Australia's leading household appliance, technology and furniture rental company and boasts that it gives everyone a 'fair go,' with no immediate deposits required.\"\n",
    "sum_long1 = \"the abc have reported that those who receive centrelink payments made up radio rental's income last year.\"\n",
    "\n",
    "doc_long2 = \"Taylor Swift has been a star since the age of 16, when she released her first album and it went to No.5 in the US Billboard Chart. The singer has gone on to release four more albums, which have all gone to to the top spot in America . But it wasn't until last year that the 25 year old from\\u00a0Pennsylvania went on to become a global superstar on a level with the likes of Beyonce or Adele. Scroll down for video . In the last year, Taylor has focused much of her attention on her close-knit group of girl friends. Pictured from left:  Alana, Danielle and\\u00a0Este Haim, Jaime King, Lorde and Taylor Swift) Jenny Packham SS15 . Click to shop Jenny Packham at Stylebop! Visit site . Taylor Swift may not have attended the Golden Globes but she made her presence known at the InStyle magazine after party in this vibrant yellow gown by Jenny Packham. There are many ways to make an entrance at a big event. You can go for the thigh split or the plunging neckline look. Or you'll be sure to turn heads with a 'novelty' dress a la Bjork or Lady Gaga. But the safest way to make an impact is with the use of bold color. Taylor clearly got the memo and was the picture of sunshine elegance in this lovely bandeau dress. Jenny Packham is a classic red carpet choice. Her designs are beloved of the Duchess of Cambridge as well as stars including Kate Beckinsale and Kate Winslet and they suit Taylor's girly style to a tee. Swift's SS15 maxi isn't available online just yet but you can browse the current collection at Stylebop if you follow the link on the right. Or recreate it on the virtual high street using our edit below. We think this Needle & Thread dress is a winner, meanwhile this Laundry by Shelli Segal maxi is a bargain on sale for $177! Jill Jill Stuart Deep V-Neck Ruched Chiffon Gown at Zappos . Visit site . Laundry by Shelli Segal Strapless Chiffon Gown at Neiman Marcus (Now $177) Visit site . Needle & Thread Tiered Chiffon Maxi Dress at Net-A-Porter . Visit site . Mason by Michelle Mason Washed-Silk Georgette Gown at Net-A-Porter . Visit site . Taylor's influence is now mind blowing - she has\\u00a052.8 million Twitter followers and\\u00a074.4 million likes on Facebook. Last year, Shake It Off went to No.1 on the iTunes chart in 64 different countries and in January, she sold the four millionth copy of 1989 in the US alone. The new success had coincided with a new Taylor - one who had cut off her long blonde hair into a sophisticated bob, moved to New York and developed a close-knit group of female friends who she frequently hosts dinner parties for at her Tribeca apartment. Perhaps most crucially though, 2014 also marked the year that Taylor Swift was a singleton. Taylor with with the supermodel Cara Delevingne . Taylor with the singer Lorde (left) and Ellie Goulding (right) Since she was 16, Taylor has had a slew of celebrity boyfriends that have all ended in heartbreak. It would be hard not to be aware of her failed romances, given the coverage they have received both in her music and in the news. In her teens, she dated heartthrobs Taylor Lautner and Joe Jonas, before moving on to the likes of Jake Gyllenhaal and John Mayer. There was a brief romance with Conor Kennedy before what has now become her most famous relationship - Harry Styles. Taylor Swift with ex-boyfriend Joe Jonas, who she dated in 2008 . Taylor Swift with Taylor Lautner, who she dated in 2009 . But her dalliance with the One Direction star was enough to put Taylor off men and since her break-up with the singer in January 2013, she has focused on living a single life. She told The Telegraph on Saturday: 'The thing about my girlfriends right now is that none of them needs me for anything other than friendship - I love the fact that they are all passionate about their jobs, whatever their jobs are.' 'I used to think it was important to find a boyfriend, but I don't feel that it is now.' In doing this, the tide has turned for Taylor in terms of public opinion - up until last year, many derided the star for being boy crazy and acting like a crazed bunny boiler. The reputation for being a man hunter also unfairly affected people's opinions about her professional success, which has been almost unprecedented for a singer/songwriter of her age. Taylor with Jake Gyllenhaal (left), who she dated in 2010 and Conor Kennedy, who she dated in 2012 . Taylor with Harry Styles in December 2012 in New York . But with 1989, a new Taylor emerged - the songs were no longer about men and more about her relationships with her peers and the public. Shake It Off was a brilliant two fingers up to the 'haters' who had been criticising her for so long simply for having boyfriends. Taylor's move to New York from Nashville also coincided with a chic new style. For the last 12 months, the star has consistently been photographed on the world's best dressed lists and she even holds her own when out partying with her gaggle of supermodel friends like Karlie Kloss. From left: Cara Delevingne,\\u00a0Natalia Vodianova,\\u00a0Karlie Kloss and Taylor . Taylor with Lena Dunham in New York last December . Every morning, she leaves her Manhattan loft dressed in an immaculate ensemble that puts most celebrities to shame. Stick her name into Google and it is virtually impossible to find a snap of Taylor with a hair out of place. And while her schedule has become even more demanding, she hasn't failed to forget the people who helped her to make it in the first place. Taylor with Karlie at the Victoria's Secret Fashion Show in London last December . Ellie Goulding and Lewis Hamilton present Taylor Swift with the award for International Female at last month's BRIT Awards . Her feelings of responsibility towards her fans is one of the strongest in showbiz - she researches their hobbies on social media and then buys presents for them that reflect their personalities. According to the Telegraph, she has even been known to help pay off her supporters' student loans. She said: 'Do they like photography? I'll get them an 1980s Polaroid camera. Do they like vintage stuff? I'll go to an antiques place and get them 1920s earrings. Do they work out a lot? I'll get them workout stuff. 'When you actually get to know them on a person-by-person basis, you realise what you're doing is special and sacred and it matters.' With an attitude like that, her popularity is unlikely to fade anytime soon.\"\n",
    "sum_long2 = \"the 25 year old from pennsylvania went viral on a level with the likes of beyonce or adele.\"\n",
    "\n",
    "doc_long3 = \"Former Manchester City boss Roberto Mancini has turned up the heat on successor Manuel Pellegrini by claiming the Chilean should be winning a trophy every year. Mancini thinks Pellegrini was 'really lucky' to inherit a strong side from him and he should be delivering continual success at the Etihad Stadium. But Pellegrini, who did win two trophies last season, is now under heavy pressure with City faltering in their Barclays Premier League title defence and facing an uphill task against Barcelona in the Champions League. Manuel Pellegrini is under pressure to save Manchester City's season and his job as well . Pellegrini has come under fire for City's faltering title defence and Champions League campaign . Manchester City will look to overturn a 201 first-leg deficit against Barcelona in their Champions League tie . Mancini, who was sacked by City in 2013 despite winning the Premier League title the previous year, told CNN: 'I think Pellegrini was really lucky because he got this team that is a strong team and he has a chance to put in more good players. 'I think City can win a title every year and have a chance - it should and must try to win a title every year.' Mancini's jibe came on the eve of the second leg of City's last-16 Champions League tie at Barcelona, which they will go into trailing 2-1. Roberto Mancini guided Manchester City to the Premier League title in 2012 after FA Cup success in 2011 . Mancini lost his job at City in 2013 after his team's failed title defence and poor European showing . The success or otherwise of City's season now appears to hinge on the outcome at the Nou Camp as, trailing Chelsea by six points having played a game more, the Premier League looks beyond them. But Mancini said: 'It's my opinion that City is the best team in the Premier League. It's in second and six points behind Chelsea but I think it's the best team. 'In the Premier League anything can happen right up to the last game, in the last minute. I think they should think that they have a chance to win the title.' VIDEO Pellegrini doesn't fear for City job . \"\n",
    "sum_long3 = \"roberto mancini has turned up the heat for manuel pellegrini's successor.\"\n",
    "\n",
    "doc1 = \"Mr Katter said the Government believes Mr Gordon would quit after he was recently accused of domestic violence.\"\n",
    "sum1 = \"Mr Katter said he would quit after he was accused of domestic violence.\"\n",
    "\n",
    "doc2 = \"Barcelona club president Josep Maria Bartomeu has insisted that the La Liga leaders have no plans to replace Luis Enrique and they're `very happy' with him.\"\n",
    "sum2 = \"Josep Maria Bartomeu says the La Liga leaders are very happy with him.\"\n",
    "\n",
    "doc3 = \"Goldfish are being caught weighing up to 2kg and koi carp up to 8kg and one metre in length.\"\n",
    "sum3 = \"Goldfish are being caught weighing up to 8kg and one metre in length.\"\n",
    "\n",
    "doc4 = \"Paul Merson had another dig at Andros Townsend after his appearance for Tottenham against Burnley ...Townsend hit back at Merson on Twitter after scoring for England against Italy.\"\n",
    "sum4 = \"Paul Merson had another dig at andros townsend after scoring for England against Italy.\"\n",
    "\n",
    "doc5 = \"Catania, Italy (CNN)The boat that sank in the Mediterranean over the weekend with hundreds of migrants on board may have capsized after being touched or swamped by a cargo ship that came to its aid, a U.N. official said. Carlotta Asami, a spokeswoman for the United Nations' refugee agency, made the comments to CNN early Tuesday after she and two of her colleagues had spoken to multiple survivors from the disaster who arrived in Catania, Italy.\"\n",
    "sum5 = \"hundreds of migrants on board may have capsized after being touched or swamped by a cargo ship that came to its aid.\""
   ]
  },
  {
   "cell_type": "code",
   "execution_count": 29,
   "metadata": {},
   "outputs": [
    {
     "name": "stdout",
     "output_type": "stream",
     "text": [
      "<s>[INST] Note that consistency means all information in the summary is supported by the article. \n",
      "It's known that the following summary is not consistent with the article. \n",
      "Find out why. \n",
      "\n",
      "<Article> \n",
      "Nearly half of the Radio Rentals customers have been found to be on welfare payments, and they are not just renting household necessities. The ABC have reported that those who receive Centrelink payments made up half of Radio Rental's income last year. Of the $197 million of revenue they made, $90 million came from the bill-managing Centrelink service, Centrepay. Rental company Radio Rentals has been getting nealry half of its yearly revenue from Centrelink . Centrelink's service, Centrepay is a voluntary bill paying service that helps to manage welfare funds . Of that $90 million in expenditure, $45 million was used for entertainment items such as flat screen televisions, smart phones, sound systems and other home theatre devices. The shocking reality is that the consumer leasing company relies on revenue from the Australian welfare system. A report released by finance company Credit Suisse has expressed that any change in the rules that regulate the consumer leasing industry would have a huge effect on Radio Rentals and their business. Centrepay is a voluntary bill paying service offered by Centrelink and deducts welfare payments in manageable amounts in order to pay nominated bills. Those bills can be toward rent, electricity, gas, water, ambulance or medical services and many more. This service aims to make budgeting easier for customers and caters to rental companies as it encourages smaller, broken up bills. Of the $90 million in expenditure, $45 million was used for entertainment items such as flat screen TVs . The reality is that the consumer leasing company relies on revenue from the Australian welfare system . Consumer Action Law Centre chief executive officer Gerard Brody told the ABC that there have been worries about the white goods leasing market leader Radio Rentals for a while now. 'We have had long-held concerns about Radio Rentals and the consumer lease industry's use of the Centrepay system,' he said. Radio Rentals is currently Australia's leading household appliance, technology and furniture rental company and boasts that it gives everyone a 'fair go,' with no immediate deposits required.\n",
      "</Article>\n",
      "\n",
      "<Summary> \n",
      "the abc have reported that those who receive centrelink payments made up radio rental's income last year.\n",
      "</Summary>\n",
      "\n",
      "Explain your reasoning step by step:[/INST]\n",
      "\n",
      "1. The summary states that \"those who receive Centrelink payments made up Radio Rental's income last year.\"\n",
      "2. However, the article states that \"Nearly half of the Radio Rentals customers have been found to be on welfare payments, and they are not just renting household necessities.\" This implies that not all of Radio Rentals' income comes from Centrelink payments.\n",
      "3. Furthermore, the article states that \"Of the $197 million of revenue they made, $90 million came from the bill-managing Centrelink service, Centrepay.\" This means that only $90 million of Radio Rentals' $197 million income came from Centrelink payments, not all of it.\n",
      "4. Therefore, the summary is not consistent with the article because it implies that all of Radio Rentals' income comes from Centrelink payments, when in fact only a portion of it does.\n",
      "\n",
      "In conclusion, the summary is not accurate because it overstates the amount of income that Radio Rentals receives from Centrelink payments. The article provides more detailed information about the source of Radio Rentals' income, which is not fully reflected in the summary.\n"
     ]
    }
   ],
   "source": [
    "print(llm_generate(template.format(article=doc_long1, summary=sum_long1)))"
   ]
  },
  {
   "cell_type": "code",
   "execution_count": 30,
   "metadata": {},
   "outputs": [
    {
     "name": "stdout",
     "output_type": "stream",
     "text": [
      "<s>[INST] Note that consistency means all information in the summary is supported by the article. \n",
      "It's known that the following summary is not consistent with the article. \n",
      "Find out why. \n",
      "\n",
      "<Article> \n",
      "Taylor Swift has been a star since the age of 16, when she released her first album and it went to No.5 in the US Billboard Chart. The singer has gone on to release four more albums, which have all gone to to the top spot in America . But it wasn't until last year that the 25 year old from Pennsylvania went on to become a global superstar on a level with the likes of Beyonce or Adele. Scroll down for video . In the last year, Taylor has focused much of her attention on her close-knit group of girl friends. Pictured from left:  Alana, Danielle and Este Haim, Jaime King, Lorde and Taylor Swift) Jenny Packham SS15 . Click to shop Jenny Packham at Stylebop! Visit site . Taylor Swift may not have attended the Golden Globes but she made her presence known at the InStyle magazine after party in this vibrant yellow gown by Jenny Packham. There are many ways to make an entrance at a big event. You can go for the thigh split or the plunging neckline look. Or you'll be sure to turn heads with a 'novelty' dress a la Bjork or Lady Gaga. But the safest way to make an impact is with the use of bold color. Taylor clearly got the memo and was the picture of sunshine elegance in this lovely bandeau dress. Jenny Packham is a classic red carpet choice. Her designs are beloved of the Duchess of Cambridge as well as stars including Kate Beckinsale and Kate Winslet and they suit Taylor's girly style to a tee. Swift's SS15 maxi isn't available online just yet but you can browse the current collection at Stylebop if you follow the link on the right. Or recreate it on the virtual high street using our edit below. We think this Needle & Thread dress is a winner, meanwhile this Laundry by Shelli Segal maxi is a bargain on sale for $177! Jill Jill Stuart Deep V-Neck Ruched Chiffon Gown at Zappos . Visit site . Laundry by Shelli Segal Strapless Chiffon Gown at Neiman Marcus (Now $177) Visit site . Needle & Thread Tiered Chiffon Maxi Dress at Net-A-Porter . Visit site . Mason by Michelle Mason Washed-Silk Georgette Gown at Net-A-Porter . Visit site . Taylor's influence is now mind blowing - she has 52.8 million Twitter followers and 74.4 million likes on Facebook. Last year, Shake It Off went to No.1 on the iTunes chart in 64 different countries and in January, she sold the four millionth copy of 1989 in the US alone. The new success had coincided with a new Taylor - one who had cut off her long blonde hair into a sophisticated bob, moved to New York and developed a close-knit group of female friends who she frequently hosts dinner parties for at her Tribeca apartment. Perhaps most crucially though, 2014 also marked the year that Taylor Swift was a singleton. Taylor with with the supermodel Cara Delevingne . Taylor with the singer Lorde (left) and Ellie Goulding (right) Since she was 16, Taylor has had a slew of celebrity boyfriends that have all ended in heartbreak. It would be hard not to be aware of her failed romances, given the coverage they have received both in her music and in the news. In her teens, she dated heartthrobs Taylor Lautner and Joe Jonas, before moving on to the likes of Jake Gyllenhaal and John Mayer. There was a brief romance with Conor Kennedy before what has now become her most famous relationship - Harry Styles. Taylor Swift with ex-boyfriend Joe Jonas, who she dated in 2008 . Taylor Swift with Taylor Lautner, who she dated in 2009 . But her dalliance with the One Direction star was enough to put Taylor off men and since her break-up with the singer in January 2013, she has focused on living a single life. She told The Telegraph on Saturday: 'The thing about my girlfriends right now is that none of them needs me for anything other than friendship - I love the fact that they are all passionate about their jobs, whatever their jobs are.' 'I used to think it was important to find a boyfriend, but I don't feel that it is now.' In doing this, the tide has turned for Taylor in terms of public opinion - up until last year, many derided the star for being boy crazy and acting like a crazed bunny boiler. The reputation for being a man hunter also unfairly affected people's opinions about her professional success, which has been almost unprecedented for a singer/songwriter of her age. Taylor with Jake Gyllenhaal (left), who she dated in 2010 and Conor Kennedy, who she dated in 2012 . Taylor with Harry Styles in December 2012 in New York . But with 1989, a new Taylor emerged - the songs were no longer about men and more about her relationships with her peers and the public. Shake It Off was a brilliant two fingers up to the 'haters' who had been criticising her for so long simply for having boyfriends. Taylor's move to New York from Nashville also coincided with a chic new style. For the last 12 months, the star has consistently been photographed on the world's best dressed lists and she even holds her own when out partying with her gaggle of supermodel friends like Karlie Kloss. From left: Cara Delevingne, Natalia Vodianova, Karlie Kloss and Taylor . Taylor with Lena Dunham in New York last December . Every morning, she leaves her Manhattan loft dressed in an immaculate ensemble that puts most celebrities to shame. Stick her name into Google and it is virtually impossible to find a snap of Taylor with a hair out of place. And while her schedule has become even more demanding, she hasn't failed to forget the people who helped her to make it in the first place. Taylor with Karlie at the Victoria's Secret Fashion Show in London last December . Ellie Goulding and Lewis Hamilton present Taylor Swift with the award for International Female at last month's BRIT Awards . Her feelings of responsibility towards her fans is one of the strongest in showbiz - she researches their hobbies on social media and then buys presents for them that reflect their personalities. According to the Telegraph, she has even been known to help pay off her supporters' student loans. She said: 'Do they like photography? I'll get them an 1980s Polaroid camera. Do they like vintage stuff? I'll go to an antiques place and get them 1920s earrings. Do they work out a lot? I'll get them workout stuff. 'When you actually get to know them on a person-by-person basis, you realise what you're doing is special and sacred and it matters.' With an attitude like that, her popularity is unlikely to fade anytime soon.\n",
      "</Article>\n",
      "\n",
      "<Summary> \n",
      "the 25 year old from pennsylvania went viral on a level with the likes of beyonce or adele.\n",
      "</Summary>\n",
      "\n",
      "Explain your reasoning step by step:[/INST]\n",
      "\n",
      "1. The summary states that Taylor Swift went viral on a level with the likes of Beyonce or Adele, but the article does not support this claim.\n",
      "2. The article does mention that Taylor Swift has become a global superstar and has a large following on social media, but it does not compare her to Beyonce or Adele in terms of viral popularity.\n",
      "3. The article highlights Taylor Swift's close-knit group of girl friends and her new style, which has earned her a spot on the world's best-dressed lists, but it does not mention anything about her going viral.\n",
      "4. The summary is not consistent with the article because it exaggerates Taylor Swift's popularity and compares her to Beyonce and Adele, while the article presents a more balanced view of her success and popularity.\n",
      "5. The article focuses more on Taylor Swift's personal life, her relationships, and her professional success, while the summary only focuses on her popularity and viral status.\n",
      "\n",
      "Therefore, the summary is not consistent with the article because it sensationalizes Taylor Swift's popularity and compares her to other celebrities in a way that the article does not.\n"
     ]
    }
   ],
   "source": [
    "print(llm_generate(template.format(article=doc_long2, summary=sum_long2)))"
   ]
  },
  {
   "cell_type": "code",
   "execution_count": 32,
   "metadata": {},
   "outputs": [
    {
     "name": "stdout",
     "output_type": "stream",
     "text": [
      "<s>[INST] Note that consistency means all information in the summary is supported by the article. \n",
      "It's known that the following summary is not consistent with the article. \n",
      "Find out why. \n",
      "\n",
      "<Article> \n",
      "Former Manchester City boss Roberto Mancini has turned up the heat on successor Manuel Pellegrini by claiming the Chilean should be winning a trophy every year. Mancini thinks Pellegrini was 'really lucky' to inherit a strong side from him and he should be delivering continual success at the Etihad Stadium. But Pellegrini, who did win two trophies last season, is now under heavy pressure with City faltering in their Barclays Premier League title defence and facing an uphill task against Barcelona in the Champions League. Manuel Pellegrini is under pressure to save Manchester City's season and his job as well . Pellegrini has come under fire for City's faltering title defence and Champions League campaign . Manchester City will look to overturn a 201 first-leg deficit against Barcelona in their Champions League tie . Mancini, who was sacked by City in 2013 despite winning the Premier League title the previous year, told CNN: 'I think Pellegrini was really lucky because he got this team that is a strong team and he has a chance to put in more good players. 'I think City can win a title every year and have a chance - it should and must try to win a title every year.' Mancini's jibe came on the eve of the second leg of City's last-16 Champions League tie at Barcelona, which they will go into trailing 2-1. Roberto Mancini guided Manchester City to the Premier League title in 2012 after FA Cup success in 2011 . Mancini lost his job at City in 2013 after his team's failed title defence and poor European showing . The success or otherwise of City's season now appears to hinge on the outcome at the Nou Camp as, trailing Chelsea by six points having played a game more, the Premier League looks beyond them. But Mancini said: 'It's my opinion that City is the best team in the Premier League. It's in second and six points behind Chelsea but I think it's the best team. 'In the Premier League anything can happen right up to the last game, in the last minute. I think they should think that they have a chance to win the title.' VIDEO Pellegrini doesn't fear for City job . \n",
      "</Article>\n",
      "\n",
      "<Summary> \n",
      "roberto mancini has turned up the heat for manuel pellegrini's successor.\n",
      "</Summary>\n",
      "\n",
      "Explain your reasoning step by step:[/INST]\n",
      "\n",
      "1. The summary states that Roberto Mancini has turned up the heat for Manuel Pellegrini's successor, implying that Mancini is putting pressure on Pellegrini to perform.\n",
      "2. However, the article states that Mancini was sacked by Manchester City in 2013, and therefore cannot be Pellegrini's successor.\n",
      "3. Therefore, the summary is not consistent with the article, as it implies that Mancini is still involved with Manchester City and is putting pressure on Pellegrini, when in fact he is no longer with the club.\n",
      "4. The article states that Pellegrini is under pressure to save Manchester City's season and his job, but there is no mention of Mancini putting pressure on him.\n",
      "5. The summary is not accurate because it implies that Mancini is still involved with Manchester City and is putting pressure on Pellegrini, when in fact he is no longer with the club.\n"
     ]
    }
   ],
   "source": [
    "print(llm_generate(template.format(article=doc_long3, summary=sum_long3)))"
   ]
  },
  {
   "cell_type": "code",
   "execution_count": 33,
   "metadata": {},
   "outputs": [
    {
     "name": "stdout",
     "output_type": "stream",
     "text": [
      "<s>[INST] Note that consistency means all information in the summary is supported by the article. \n",
      "It's known that the following summary is not consistent with the article. \n",
      "Find out why. \n",
      "\n",
      "<Article> \n",
      "Mr Katter said the Government believes Mr Gordon would quit after he was recently accused of domestic violence.\n",
      "</Article>\n",
      "\n",
      "<Summary> \n",
      "Mr Katter said he would quit after he was accused of domestic violence.\n",
      "</Summary>\n",
      "\n",
      "Explain your reasoning step by step:[/INST]\n",
      "  Sure, I can help you with that! Here's my reasoning step by step:\n",
      "\n",
      "1. The article states: \"Mr Katter said the Government believes Mr Gordon would quit after he was recently accused of domestic violence.\"\n",
      "2. The summary states: \"Mr Katter said he would quit after he was accused of domestic violence.\"\n",
      "3. The key difference between the article and the summary is the wording of the second sentence. The article uses the phrase \"the Government believes,\" while the summary uses the word \"he.\"\n",
      "4. Based on the article, it is clear that the Government believes Mr. Gordon would quit, but it does not explicitly state that Mr. Gordon himself said he would quit.\n",
      "5. Therefore, the summary is not consistent with the article because it attributes a statement to Mr. Gordon that is not supported by the text of the article.\n",
      "\n",
      "So, the reason why the summary is not consistent with the article is that it misrepresents Mr. Gordon's statement as a direct quote, when in fact it is only the Government's belief.\n"
     ]
    },
    {
     "data": {
      "text/plain": [
       "'\\nOriginal:\\n1. The summary states that Mr. Katter said he would quit after being accused of domestic violence.\\n2. The article states that the Government believes Mr. Gordon would quit after being recently accused of domestic violence.\\n3. The key difference between the summary and the article is that the name \"Mr. Katter\" is mentioned in the summary, but there is no mention of Mr. Katter in the article.\\n4. Therefore, the summary is not consistent with the article because the article does not mention Mr. Katter quitting or being accused of domestic violence.\\n5. The article actually mentions Mr. Gordon being accused of domestic violence and the Government believing that he would quit.\\n\\nSo, the reason why the summary is not consistent with the article is that it mistakenly refers to Mr. Katter instead of Mr. Gordon, and it also includes a detail (Mr. Katter quitting) that is not present in the article.\\n\\nRevised:\\n1. The summary states that Mr. Katter said he would quit after being accused of domestic violence.\\n2. The article states that the Government believes Mr. Gordon would quit after being recently accused of domestic violence.\\n3. Therefore, the summary is not consistent with the article because the article does not mention Mr. Katter quitting or being accused of domestic violence.\\n4. The article actually mentions Mr. Gordon being accused of domestic violence and the Government believing that he would quit.\\n5. The summary is not consistent with the article is because that it mistakenly refers to Mr. Katter instead of Mr. Gordon, and it also includes a detail (Mr. Katter quitting) that is not present in the article.\\n'"
      ]
     },
     "execution_count": 33,
     "metadata": {},
     "output_type": "execute_result"
    }
   ],
   "source": [
    "print(llm_generate(template.format(article=doc1, summary=sum1)))\n",
    "\n",
    "\"\"\"\n",
    "Original:\n",
    "1. The summary states that Mr. Katter said he would quit after being accused of domestic violence.\n",
    "2. The article states that the Government believes Mr. Gordon would quit after being recently accused of domestic violence.\n",
    "3. The key difference between the summary and the article is that the name \"Mr. Katter\" is mentioned in the summary, but there is no mention of Mr. Katter in the article.\n",
    "4. Therefore, the summary is not consistent with the article because the article does not mention Mr. Katter quitting or being accused of domestic violence.\n",
    "5. The article actually mentions Mr. Gordon being accused of domestic violence and the Government believing that he would quit.\n",
    "\n",
    "So, the reason why the summary is not consistent with the article is that it mistakenly refers to Mr. Katter instead of Mr. Gordon, and it also includes a detail (Mr. Katter quitting) that is not present in the article.\n",
    "\n",
    "Revised:\n",
    "1. The summary states that Mr. Katter said he would quit after being accused of domestic violence.\n",
    "2. The article states that the Government believes Mr. Gordon would quit after being recently accused of domestic violence.\n",
    "3. Therefore, the summary is not consistent with the article because the article does not mention Mr. Katter quitting or being accused of domestic violence.\n",
    "4. The article actually mentions Mr. Gordon being accused of domestic violence and the Government believing that he would quit.\n",
    "5. The summary is not consistent with the article is because that it mistakenly refers to Mr. Katter instead of Mr. Gordon, and it also includes a detail (Mr. Katter quitting) that is not present in the article.\n",
    "\"\"\""
   ]
  },
  {
   "cell_type": "code",
   "execution_count": 34,
   "metadata": {},
   "outputs": [
    {
     "name": "stdout",
     "output_type": "stream",
     "text": [
      "<s>[INST] Note that consistency means all information in the summary is supported by the article. \n",
      "It's known that the following summary is not consistent with the article. \n",
      "Find out why. \n",
      "\n",
      "<Article> \n",
      "Barcelona club president Josep Maria Bartomeu has insisted that the La Liga leaders have no plans to replace Luis Enrique and they're `very happy' with him.\n",
      "</Article>\n",
      "\n",
      "<Summary> \n",
      "Josep Maria Bartomeu says the La Liga leaders are very happy with him.\n",
      "</Summary>\n",
      "\n",
      "Explain your reasoning step by step:[/INST]\n",
      "\n",
      "1. The article states that Barcelona club president Josep Maria Bartomeu has insisted that the La Liga leaders have no plans to replace Luis Enrique.\n",
      "2. The summary only mentions that Josep Maria Bartomeu says the La Liga leaders are very happy with him, but it does not mention anything about the club's plans to replace Luis Enrique.\n",
      "3. Therefore, the summary is not consistent with the article because it does not include the information about the club's plans to replace Luis Enrique, which is a key point in the article.\n",
      "4. The summary only provides a partial information about the article, it only focus on the president's statement about the team's happiness, but it doesn't cover the main point of the article which is the club's plan for the coach.\n",
      "\n",
      "So, the summary is not consistent with the article because it leaves out important information and only provides a partial view of the article's content.\n"
     ]
    },
    {
     "data": {
      "text/plain": [
       "'\\nOriginal:\\n1. The summary states that Josep Maria Bartomeu says the La Liga leaders are very happy with him.\\n2. The article states that Bartomeu has insisted that the La Liga leaders have no plans to replace Luis Enrique and they\\'re \"very happy\" with him.\\n3. The wording of the summary is different from the wording of the article. In the summary, it is stated that the La Liga leaders are happy with Bartomeu, while in the article, it is stated that the La Liga leaders have no plans to replace Luis Enrique and are happy with him.\\n4. The reason for the inconsistency is that the summary has misinterpreted the article. The article does not say that the La Liga leaders are happy with Bartomeu, but rather that they have no plans to replace Luis Enrique and are happy with him.\\n5. Therefore, the summary is not consistent with the article, and the inconsistency is due to a misinterpretation of the article\\'s content.\\n'"
      ]
     },
     "execution_count": 34,
     "metadata": {},
     "output_type": "execute_result"
    }
   ],
   "source": [
    "print(llm_generate(template.format(article=doc2, summary=sum2)))\n",
    "\n",
    "\"\"\"\n",
    "Original:\n",
    "1. The summary states that Josep Maria Bartomeu says the La Liga leaders are very happy with him.\n",
    "2. The article states that Bartomeu has insisted that the La Liga leaders have no plans to replace Luis Enrique and they're \"very happy\" with him.\n",
    "3. The wording of the summary is different from the wording of the article. In the summary, it is stated that the La Liga leaders are happy with Bartomeu, while in the article, it is stated that the La Liga leaders have no plans to replace Luis Enrique and are happy with him.\n",
    "4. The reason for the inconsistency is that the summary has misinterpreted the article. The article does not say that the La Liga leaders are happy with Bartomeu, but rather that they have no plans to replace Luis Enrique and are happy with him.\n",
    "5. Therefore, the summary is not consistent with the article, and the inconsistency is due to a misinterpretation of the article's content.\n",
    "\"\"\""
   ]
  },
  {
   "cell_type": "code",
   "execution_count": 35,
   "metadata": {},
   "outputs": [
    {
     "name": "stdout",
     "output_type": "stream",
     "text": [
      "<s>[INST] Note that consistency means all information in the summary is supported by the article. \n",
      "It's known that the following summary is not consistent with the article. \n",
      "Find out why. \n",
      "\n",
      "<Article> \n",
      "Goldfish are being caught weighing up to 2kg and koi carp up to 8kg and one metre in length.\n",
      "</Article>\n",
      "\n",
      "<Summary> \n",
      "Goldfish are being caught weighing up to 8kg and one metre in length.\n",
      "</Summary>\n",
      "\n",
      "Explain your reasoning step by step:[/INST]\n",
      "\n",
      "1. The article states that goldfish are being caught weighing up to 2kg, while the summary states that they are being caught weighing up to 8kg. This is a discrepancy.\n",
      "2. The article also states that koi carp are being caught weighing up to 8kg and one metre in length, but the summary does not mention anything about koi carp.\n",
      "3. Therefore, the summary is not consistent with the article because it only mentions goldfish, while the article mentions both goldfish and koi carp.\n",
      "4. Additionally, the weight range mentioned in the summary (8kg) is higher than the weight range mentioned in the article (2kg) for goldfish, which is another inconsistency.\n"
     ]
    },
    {
     "data": {
      "text/plain": [
       "'\\nOriginal:\\n1. The summary states that goldfish are being caught weighing up to 8kg and one meter in length.\\n2. The article states that goldfish are being caught weighing up to 2kg and koi carp up to 8kg and one meter in length.\\n3. The article does not mention goldfish weighing up to 8kg and one meter in length, only koi carp.\\n4. Therefore, the summary is not consistent with the article because it claims that goldfish are being caught weighing up to 8kg and one meter in length, which is not supported by the article.\\n5. The reason for this inconsistency is likely a mistake or misinterpretation of the information in the article. The article specifically mentions koi carp, not goldfish, as the fish being caught weighing up to 8kg and one meter in length.\\n'"
      ]
     },
     "execution_count": 35,
     "metadata": {},
     "output_type": "execute_result"
    }
   ],
   "source": [
    "print(llm_generate(template.format(article=doc3, summary=sum3)))\n",
    "\n",
    "\"\"\"\n",
    "Original:\n",
    "1. The summary states that goldfish are being caught weighing up to 8kg and one meter in length.\n",
    "2. The article states that goldfish are being caught weighing up to 2kg and koi carp up to 8kg and one meter in length.\n",
    "3. The article does not mention goldfish weighing up to 8kg and one meter in length, only koi carp.\n",
    "4. Therefore, the summary is not consistent with the article because it claims that goldfish are being caught weighing up to 8kg and one meter in length, which is not supported by the article.\n",
    "5. The reason for this inconsistency is likely a mistake or misinterpretation of the information in the article. The article specifically mentions koi carp, not goldfish, as the fish being caught weighing up to 8kg and one meter in length.\n",
    "\"\"\""
   ]
  },
  {
   "cell_type": "code",
   "execution_count": 36,
   "metadata": {},
   "outputs": [
    {
     "name": "stdout",
     "output_type": "stream",
     "text": [
      "<s>[INST] Note that consistency means all information in the summary is supported by the article. \n",
      "It's known that the following summary is not consistent with the article. \n",
      "Find out why. \n",
      "\n",
      "<Article> \n",
      "Paul Merson had another dig at Andros Townsend after his appearance for Tottenham against Burnley ...Townsend hit back at Merson on Twitter after scoring for England against Italy.\n",
      "</Article>\n",
      "\n",
      "<Summary> \n",
      "Paul Merson had another dig at andros townsend after scoring for England against Italy.\n",
      "</Summary>\n",
      "\n",
      "Explain your reasoning step by step:[/INST]\n",
      "\n",
      "1. The article states that Paul Merson had a dig at Andros Townsend after his appearance for Tottenham against Burnley.\n",
      "2. The summary states that Paul Merson had another dig at Andros Townsend after scoring for England against Italy.\n",
      "3. The article does not mention anything about Andros Townsend scoring for England against Italy.\n",
      "4. Therefore, the summary is not consistent with the article because it includes information that is not supported by the article.\n",
      "\n",
      "The summary should only include information that is explicitly stated in the article, and should not include any information that is not supported by the article. In this case, the summary should only mention that Paul Merson had a dig at Andros Townsend after his appearance for Tottenham against Burnley, and should not mention anything about Andros Townsend scoring for England against Italy.\n"
     ]
    },
    {
     "data": {
      "text/plain": [
       "'\\nOriginal\\n1. The summary states that Paul Merson had a dig at Andros Townsend after scoring for England against Italy.\\n2. The article states that Paul Merson had a dig at Andros Townsend after his appearance for Tottenham against Burnley.\\n3. These two statements are not consistent, as Andros Townsend did not play for England against Italy.\\n4. Therefore, the summary is not consistent with the article, and the reason for this inconsistency is that the summary incorrectly states that Andros Townsend played for England against Italy.\\n\\nCorrected (Hallucination)\\n1. The summary states that Paul Merson had a dig at Andros Townsend after scoring for England against Italy.\\n2. The article states that Paul Merson had a dig at Andros Townsend after his appearance for Tottenham against Burnley.\\n3. These two statements are not consistent, as summary states the event happened after scoring for England against Italy, while the article says after his appearance for Tottenham against Burnley.\\n4. Therefore, the summary is not consistent with the article, and the reason for this inconsistency is that the summary incorrectly states the time when Paul Merson had a dig at Andros Townsend.\\n'"
      ]
     },
     "execution_count": 36,
     "metadata": {},
     "output_type": "execute_result"
    }
   ],
   "source": [
    "print(llm_generate(template.format(article=doc4, summary=sum4)))\n",
    "\n",
    "\"\"\"\n",
    "Original\n",
    "1. The summary states that Paul Merson had a dig at Andros Townsend after scoring for England against Italy.\n",
    "2. The article states that Paul Merson had a dig at Andros Townsend after his appearance for Tottenham against Burnley.\n",
    "3. These two statements are not consistent, as Andros Townsend did not play for England against Italy.\n",
    "4. Therefore, the summary is not consistent with the article, and the reason for this inconsistency is that the summary incorrectly states that Andros Townsend played for England against Italy.\n",
    "\n",
    "Corrected (Hallucination)\n",
    "1. The summary states that Paul Merson had a dig at Andros Townsend after scoring for England against Italy.\n",
    "2. The article states that Paul Merson had a dig at Andros Townsend after his appearance for Tottenham against Burnley.\n",
    "3. These two statements are not consistent, as summary states the event happened after scoring for England against Italy, while the article says after his appearance for Tottenham against Burnley.\n",
    "4. Therefore, the summary is not consistent with the article, and the reason for this inconsistency is that the summary incorrectly states the time when Paul Merson had a dig at Andros Townsend.\n",
    "\"\"\""
   ]
  },
  {
   "cell_type": "code",
   "execution_count": 37,
   "metadata": {},
   "outputs": [
    {
     "name": "stdout",
     "output_type": "stream",
     "text": [
      "<s>[INST] Note that consistency means all information in the summary is supported by the article. \n",
      "It's known that the following summary is not consistent with the article. \n",
      "Find out why. \n",
      "\n",
      "<Article> \n",
      "Catania, Italy (CNN)The boat that sank in the Mediterranean over the weekend with hundreds of migrants on board may have capsized after being touched or swamped by a cargo ship that came to its aid, a U.N. official said. Carlotta Asami, a spokeswoman for the United Nations' refugee agency, made the comments to CNN early Tuesday after she and two of her colleagues had spoken to multiple survivors from the disaster who arrived in Catania, Italy.\n",
      "</Article>\n",
      "\n",
      "<Summary> \n",
      "hundreds of migrants on board may have capsized after being touched or swamped by a cargo ship that came to its aid.\n",
      "</Summary>\n",
      "\n",
      "Explain your reasoning step by step:[/INST]\n",
      "\n",
      "1. The article states that the boat sank in the Mediterranean with hundreds of migrants on board.\n",
      "2. The article also states that a cargo ship came to the aid of the boat, but it may have caused the boat to capsize.\n",
      "3. The summary only mentions that the cargo ship came to the aid of the boat, but it does not mention the possibility that the cargo ship may have caused the boat to capsize.\n",
      "4. Therefore, the summary is not consistent with the article because it does not include the crucial information that the cargo ship may have caused the boat to capsize.\n",
      "5. The summary should have included this information to accurately reflect the content of the article.\n"
     ]
    },
    {
     "data": {
      "text/plain": [
       "'\\nOriginal\\n1. The summary states that the cargo ship \"came to its aid\" and that the boat \"may have capsized after being touched or swamped.\"\\n2. However, the article states that the cargo ship \"came to its aid\" and that the boat \"may have capsized after being touched or swamped\" due to the cargo ship\\'s actions.\\n3. The summary implies that the cargo ship caused the boat to capsize, while the article suggests that the cargo ship\\'s actions may have contributed to the boat\\'s capsizing.\\n4. The summary is not consistent with the article because it does not accurately convey the information provided in the article. The article does not state that the cargo ship intentionally caused the boat to capsize, but rather that its actions may have contributed to the boat\\'s capsizing.\\n5. Therefore, the summary is not a consistent representation of the information in the article, and it may be misleading to readers.\\n\\nCorrected:\\n1. The summary states hundreds of migrants on board may have capsized.\\n2. The article mentions the boat with hundreds of migrants on board may have capsized.\\n3. The summary is not consistent article because the summary says **migrants** may have capsized, while the article states **boat** may have capsized.\\n'"
      ]
     },
     "execution_count": 37,
     "metadata": {},
     "output_type": "execute_result"
    }
   ],
   "source": [
    "print(llm_generate(template.format(article=doc5, summary=sum5)))\n",
    "\n",
    "\"\"\"\n",
    "Original\n",
    "1. The summary states that the cargo ship \"came to its aid\" and that the boat \"may have capsized after being touched or swamped.\"\n",
    "2. However, the article states that the cargo ship \"came to its aid\" and that the boat \"may have capsized after being touched or swamped\" due to the cargo ship's actions.\n",
    "3. The summary implies that the cargo ship caused the boat to capsize, while the article suggests that the cargo ship's actions may have contributed to the boat's capsizing.\n",
    "4. The summary is not consistent with the article because it does not accurately convey the information provided in the article. The article does not state that the cargo ship intentionally caused the boat to capsize, but rather that its actions may have contributed to the boat's capsizing.\n",
    "5. Therefore, the summary is not a consistent representation of the information in the article, and it may be misleading to readers.\n",
    "\n",
    "Corrected:\n",
    "1. The summary states hundreds of migrants on board may have capsized.\n",
    "2. The article mentions the boat with hundreds of migrants on board may have capsized.\n",
    "3. The summary is not consistent article because the summary says **migrants** may have capsized, while the article states **boat** may have capsized.\n",
    "\"\"\""
   ]
  },
  {
   "cell_type": "markdown",
   "metadata": {},
   "source": []
  }
 ],
 "metadata": {
  "kernelspec": {
   "display_name": "base",
   "language": "python",
   "name": "python3"
  },
  "language_info": {
   "codemirror_mode": {
    "name": "ipython",
    "version": 3
   },
   "file_extension": ".py",
   "mimetype": "text/x-python",
   "name": "python",
   "nbconvert_exporter": "python",
   "pygments_lexer": "ipython3",
   "version": "3.10.10"
  },
  "orig_nbformat": 4
 },
 "nbformat": 4,
 "nbformat_minor": 2
}
